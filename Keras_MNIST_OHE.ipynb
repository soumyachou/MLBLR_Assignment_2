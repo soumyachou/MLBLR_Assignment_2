{
  "nbformat": 4,
  "nbformat_minor": 0,
  "metadata": {
    "colab": {
      "name": "Untitled15.ipynb",
      "version": "0.3.2",
      "provenance": []
    },
    "kernelspec": {
      "name": "python2",
      "display_name": "Python 2"
    }
  },
  "cells": [
    {
      "cell_type": "markdown",
      "metadata": {
        "id": "view-in-github",
        "colab_type": "text"
      },
      "source": [
        "[View in Colaboratory](https://colab.research.google.com/github/soumyachou/MLBLR_Assignment_2/blob/master/Keras_MNIST_OHE.ipynb)"
      ]
    },
    {
      "metadata": {
        "id": "Pz3mrblXkXn_",
        "colab_type": "code",
        "colab": {
          "base_uri": "https://localhost:8080/",
          "height": 22380
        },
        "outputId": "7267fedc-c479-43da-93ca-b2148aad4ae2"
      },
      "cell_type": "code",
      "source": [
        "from __future__ import print_function\n",
        "import numpy as np\n",
        "from keras.datasets import mnist\n",
        "from keras.models import Sequential\n",
        "from keras.layers.core import Dense, Dropout, Activation\n",
        "from keras.optimizers import Adam\n",
        "from keras.utils import np_utils\n",
        "\n",
        "np.random.seed(1671)  # for reproducibility\n",
        "\n",
        "# network and training\n",
        "NB_EPOCH = 250\n",
        "BATCH_SIZE = 128\n",
        "VERBOSE = 1\n",
        "NB_CLASSES = 10   # number of outputs = number of digits\n",
        "OPTIMIZER = Adam() # SGD optimizer, explained later in this chapter\n",
        "N_HIDDEN = 128\n",
        "VALIDATION_SPLIT=0.2 # how much TRAIN is reserved for VALIDATION\n",
        "DROPOUT = 0.3\n",
        "# data: shuffled and split between train and test sets\n",
        "#\n",
        "(X_train, y_train), (X_test, y_test) = mnist.load_data()\n",
        "\n",
        "#X_train is 60000 rows of 28x28 values --> reshaped in 60000 x 784\n",
        "RESHAPED = 784\n",
        "#\n",
        "X_train = X_train.reshape(60000, RESHAPED)\n",
        "X_test = X_test.reshape(10000, RESHAPED)\n",
        "X_train = X_train.astype('float32')\n",
        "X_test = X_test.astype('float32')\n",
        "\n",
        "# normalize \n",
        "#\n",
        "X_train /= 255\n",
        "X_test /= 255\n",
        "print(X_train.shape[0], 'train samples')\n",
        "print(X_test.shape[0], 'test samples')\n",
        "\n",
        "# convert class vectors to binary class matrices\n",
        "Y_train = np_utils.to_categorical(y_train, NB_CLASSES)\n",
        "Y_test = np_utils.to_categorical(y_test, NB_CLASSES)\n",
        "\n",
        "# 10 outputs\n",
        "# final stage is softmax\n",
        "\n",
        "model = Sequential()\n",
        "model.add(Dense(N_HIDDEN,input_shape=(RESHAPED,)))\n",
        "model.add(Activation('relu'))\n",
        "model.add(Dropout(DROPOUT))\n",
        "model.add(Dense(N_HIDDEN))\n",
        "model.add(Activation('relu'))\n",
        "model.add(Dropout(DROPOUT))\n",
        "model.add(Dense(NB_CLASSES))\n",
        "model.add(Activation('softmax'))\n",
        "\n",
        "model.summary()\n",
        "\n",
        "model.compile(loss='categorical_crossentropy',\n",
        "              optimizer=OPTIMIZER,\n",
        "              metrics=['accuracy'])\n",
        "\n",
        "history = model.fit(X_train, Y_train,\n",
        "                    batch_size=BATCH_SIZE, epochs=NB_EPOCH,\n",
        "                    verbose=VERBOSE, validation_split=VALIDATION_SPLIT)\n",
        "score = model.evaluate(X_test, Y_test, verbose=VERBOSE)\n",
        "print(\"\\nTest score:\", score[0])\n",
        "print('Test accuracy:', score[1])"
      ],
      "execution_count": 3,
      "outputs": [
        {
          "output_type": "stream",
          "text": [
            "Downloading data from https://s3.amazonaws.com/img-datasets/mnist.npz\n",
            "11493376/11490434 [==============================] - 1s 0us/step\n",
            "11501568/11490434 [==============================] - 1s 0us/step\n",
            "60000 train samples\n",
            "10000 test samples\n",
            "_________________________________________________________________\n",
            "Layer (type)                 Output Shape              Param #   \n",
            "=================================================================\n",
            "dense_1 (Dense)              (None, 128)               100480    \n",
            "_________________________________________________________________\n",
            "activation_1 (Activation)    (None, 128)               0         \n",
            "_________________________________________________________________\n",
            "dropout_1 (Dropout)          (None, 128)               0         \n",
            "_________________________________________________________________\n",
            "dense_2 (Dense)              (None, 128)               16512     \n",
            "_________________________________________________________________\n",
            "activation_2 (Activation)    (None, 128)               0         \n",
            "_________________________________________________________________\n",
            "dropout_2 (Dropout)          (None, 128)               0         \n",
            "_________________________________________________________________\n",
            "dense_3 (Dense)              (None, 10)                1290      \n",
            "_________________________________________________________________\n",
            "activation_3 (Activation)    (None, 10)                0         \n",
            "=================================================================\n",
            "Total params: 118,282\n",
            "Trainable params: 118,282\n",
            "Non-trainable params: 0\n",
            "_________________________________________________________________\n",
            "Train on 48000 samples, validate on 12000 samples\n",
            "Epoch 1/250\n",
            "48000/48000 [==============================] - 3s 64us/step - loss: 0.5191 - acc: 0.8439 - val_loss: 0.1876 - val_acc: 0.9431\n",
            "Epoch 2/250\n",
            " 1152/48000 [..............................] - ETA: 2s - loss: 0.2468 - acc: 0.9245"
          ],
          "name": "stdout"
        },
        {
          "output_type": "stream",
          "text": [
            "48000/48000 [==============================] - 3s 60us/step - loss: 0.2341 - acc: 0.9299 - val_loss: 0.1425 - val_acc: 0.9566\n",
            "Epoch 3/250\n",
            "48000/48000 [==============================] - 3s 57us/step - loss: 0.1818 - acc: 0.9461 - val_loss: 0.1149 - val_acc: 0.9653\n",
            "Epoch 4/250\n",
            "48000/48000 [==============================] - 3s 59us/step - loss: 0.1540 - acc: 0.9540 - val_loss: 0.1099 - val_acc: 0.9674\n",
            "Epoch 5/250\n",
            "48000/48000 [==============================] - 3s 61us/step - loss: 0.1332 - acc: 0.9598 - val_loss: 0.0988 - val_acc: 0.9706\n",
            "Epoch 6/250\n",
            "48000/48000 [==============================] - 3s 59us/step - loss: 0.1209 - acc: 0.9627 - val_loss: 0.0896 - val_acc: 0.9729\n",
            "Epoch 7/250\n",
            " 7552/48000 [===>..........................] - ETA: 2s - loss: 0.0936 - acc: 0.9706"
          ],
          "name": "stdout"
        },
        {
          "output_type": "stream",
          "text": [
            "48000/48000 [==============================] - 3s 57us/step - loss: 0.1077 - acc: 0.9670 - val_loss: 0.0887 - val_acc: 0.9721\n",
            "Epoch 8/250\n",
            "48000/48000 [==============================] - 3s 58us/step - loss: 0.0990 - acc: 0.9695 - val_loss: 0.0880 - val_acc: 0.9736\n",
            "Epoch 9/250\n",
            "48000/48000 [==============================] - 3s 59us/step - loss: 0.0910 - acc: 0.9721 - val_loss: 0.0871 - val_acc: 0.9732\n",
            "Epoch 10/250\n",
            "48000/48000 [==============================] - 3s 59us/step - loss: 0.0869 - acc: 0.9729 - val_loss: 0.0818 - val_acc: 0.9758\n",
            "Epoch 11/250\n",
            "48000/48000 [==============================] - 3s 58us/step - loss: 0.0817 - acc: 0.9733 - val_loss: 0.0845 - val_acc: 0.9755\n",
            "Epoch 12/250\n",
            "11776/48000 [======>.......................] - ETA: 2s - loss: 0.0737 - acc: 0.9770"
          ],
          "name": "stdout"
        },
        {
          "output_type": "stream",
          "text": [
            "48000/48000 [==============================] - 3s 59us/step - loss: 0.0775 - acc: 0.9752 - val_loss: 0.0833 - val_acc: 0.9768\n",
            "Epoch 13/250\n",
            "48000/48000 [==============================] - 3s 60us/step - loss: 0.0728 - acc: 0.9762 - val_loss: 0.0804 - val_acc: 0.9772\n",
            "Epoch 14/250\n",
            "48000/48000 [==============================] - 3s 58us/step - loss: 0.0680 - acc: 0.9782 - val_loss: 0.0856 - val_acc: 0.9758\n",
            "Epoch 15/250\n",
            "48000/48000 [==============================] - 3s 58us/step - loss: 0.0683 - acc: 0.9783 - val_loss: 0.0830 - val_acc: 0.9763\n",
            "Epoch 16/250\n",
            "48000/48000 [==============================] - 3s 60us/step - loss: 0.0630 - acc: 0.9794 - val_loss: 0.0822 - val_acc: 0.9782\n",
            "Epoch 17/250\n",
            " 9600/48000 [=====>........................] - ETA: 2s - loss: 0.0588 - acc: 0.9808"
          ],
          "name": "stdout"
        },
        {
          "output_type": "stream",
          "text": [
            "48000/48000 [==============================] - 3s 57us/step - loss: 0.0613 - acc: 0.9797 - val_loss: 0.0828 - val_acc: 0.9766\n",
            "Epoch 18/250\n",
            "48000/48000 [==============================] - 3s 58us/step - loss: 0.0594 - acc: 0.9806 - val_loss: 0.0778 - val_acc: 0.9778\n",
            "Epoch 19/250\n",
            "48000/48000 [==============================] - 3s 61us/step - loss: 0.0576 - acc: 0.9807 - val_loss: 0.0856 - val_acc: 0.9770\n",
            "Epoch 20/250\n",
            "48000/48000 [==============================] - 3s 59us/step - loss: 0.0562 - acc: 0.9811 - val_loss: 0.0817 - val_acc: 0.9784\n",
            "Epoch 21/250\n",
            "48000/48000 [==============================] - 3s 61us/step - loss: 0.0540 - acc: 0.9824 - val_loss: 0.0803 - val_acc: 0.9788\n",
            "Epoch 22/250\n",
            " 7296/48000 [===>..........................] - ETA: 2s - loss: 0.0546 - acc: 0.9819"
          ],
          "name": "stdout"
        },
        {
          "output_type": "stream",
          "text": [
            "48000/48000 [==============================] - 3s 59us/step - loss: 0.0542 - acc: 0.9829 - val_loss: 0.0835 - val_acc: 0.9777\n",
            "Epoch 23/250\n",
            "48000/48000 [==============================] - 3s 63us/step - loss: 0.0535 - acc: 0.9819 - val_loss: 0.0874 - val_acc: 0.9771\n",
            "Epoch 24/250\n",
            "48000/48000 [==============================] - 3s 61us/step - loss: 0.0524 - acc: 0.9826 - val_loss: 0.0791 - val_acc: 0.9776\n",
            "Epoch 25/250\n",
            "48000/48000 [==============================] - 3s 58us/step - loss: 0.0473 - acc: 0.9842 - val_loss: 0.0847 - val_acc: 0.9782\n",
            "Epoch 26/250\n",
            "48000/48000 [==============================] - 3s 60us/step - loss: 0.0478 - acc: 0.9837 - val_loss: 0.0848 - val_acc: 0.9777\n",
            "Epoch 27/250\n",
            " 9088/48000 [====>.........................] - ETA: 2s - loss: 0.0512 - acc: 0.9833"
          ],
          "name": "stdout"
        },
        {
          "output_type": "stream",
          "text": [
            "48000/48000 [==============================] - 3s 60us/step - loss: 0.0474 - acc: 0.9842 - val_loss: 0.0823 - val_acc: 0.9777\n",
            "Epoch 28/250\n",
            "48000/48000 [==============================] - 3s 60us/step - loss: 0.0433 - acc: 0.9860 - val_loss: 0.0808 - val_acc: 0.9794\n",
            "Epoch 29/250\n",
            "48000/48000 [==============================] - 3s 58us/step - loss: 0.0453 - acc: 0.9848 - val_loss: 0.0833 - val_acc: 0.9782\n",
            "Epoch 30/250\n",
            "48000/48000 [==============================] - 3s 59us/step - loss: 0.0452 - acc: 0.9859 - val_loss: 0.0819 - val_acc: 0.9792\n",
            "Epoch 31/250\n",
            "48000/48000 [==============================] - 3s 58us/step - loss: 0.0442 - acc: 0.9849 - val_loss: 0.0849 - val_acc: 0.9782\n",
            "Epoch 32/250\n",
            " 9728/48000 [=====>........................] - ETA: 2s - loss: 0.0351 - acc: 0.9892"
          ],
          "name": "stdout"
        },
        {
          "output_type": "stream",
          "text": [
            "48000/48000 [==============================] - 3s 59us/step - loss: 0.0414 - acc: 0.9865 - val_loss: 0.0855 - val_acc: 0.9783\n",
            "Epoch 33/250\n",
            "48000/48000 [==============================] - 3s 59us/step - loss: 0.0415 - acc: 0.9863 - val_loss: 0.0822 - val_acc: 0.9783\n",
            "Epoch 34/250\n",
            "48000/48000 [==============================] - 3s 59us/step - loss: 0.0427 - acc: 0.9861 - val_loss: 0.0831 - val_acc: 0.9796\n",
            "Epoch 35/250\n",
            "48000/48000 [==============================] - 3s 57us/step - loss: 0.0411 - acc: 0.9862 - val_loss: 0.0824 - val_acc: 0.9800\n",
            "Epoch 36/250\n",
            "48000/48000 [==============================] - 3s 59us/step - loss: 0.0378 - acc: 0.9869 - val_loss: 0.0926 - val_acc: 0.9771\n",
            "Epoch 37/250\n",
            "10496/48000 [=====>........................] - ETA: 2s - loss: 0.0397 - acc: 0.9856"
          ],
          "name": "stdout"
        },
        {
          "output_type": "stream",
          "text": [
            "48000/48000 [==============================] - 3s 59us/step - loss: 0.0365 - acc: 0.9875 - val_loss: 0.0884 - val_acc: 0.9783\n",
            "Epoch 38/250\n",
            "48000/48000 [==============================] - 3s 57us/step - loss: 0.0402 - acc: 0.9864 - val_loss: 0.0838 - val_acc: 0.9800\n",
            "Epoch 39/250\n",
            "48000/48000 [==============================] - 3s 57us/step - loss: 0.0352 - acc: 0.9877 - val_loss: 0.0861 - val_acc: 0.9773\n",
            "Epoch 40/250\n",
            "48000/48000 [==============================] - 3s 58us/step - loss: 0.0365 - acc: 0.9875 - val_loss: 0.0824 - val_acc: 0.9797\n",
            "Epoch 41/250\n",
            "48000/48000 [==============================] - 3s 59us/step - loss: 0.0367 - acc: 0.9881 - val_loss: 0.0847 - val_acc: 0.9791\n",
            "Epoch 42/250\n",
            "12672/48000 [======>.......................] - ETA: 1s - loss: 0.0361 - acc: 0.9883"
          ],
          "name": "stdout"
        },
        {
          "output_type": "stream",
          "text": [
            "48000/48000 [==============================] - 3s 60us/step - loss: 0.0344 - acc: 0.9890 - val_loss: 0.0894 - val_acc: 0.9787\n",
            "Epoch 43/250\n",
            "48000/48000 [==============================] - 3s 57us/step - loss: 0.0351 - acc: 0.9882 - val_loss: 0.0856 - val_acc: 0.9796\n",
            "Epoch 44/250\n",
            "48000/48000 [==============================] - 3s 58us/step - loss: 0.0365 - acc: 0.9880 - val_loss: 0.0854 - val_acc: 0.9799\n",
            "Epoch 45/250\n",
            "48000/48000 [==============================] - 3s 58us/step - loss: 0.0336 - acc: 0.9890 - val_loss: 0.0902 - val_acc: 0.9791\n",
            "Epoch 46/250\n",
            "48000/48000 [==============================] - 3s 57us/step - loss: 0.0310 - acc: 0.9897 - val_loss: 0.0852 - val_acc: 0.9802\n",
            "Epoch 47/250\n",
            "12672/48000 [======>.......................] - ETA: 1s - loss: 0.0332 - acc: 0.9897"
          ],
          "name": "stdout"
        },
        {
          "output_type": "stream",
          "text": [
            "48000/48000 [==============================] - 3s 61us/step - loss: 0.0330 - acc: 0.9896 - val_loss: 0.0864 - val_acc: 0.9798\n",
            "Epoch 48/250\n",
            "48000/48000 [==============================] - 3s 59us/step - loss: 0.0355 - acc: 0.9882 - val_loss: 0.0894 - val_acc: 0.9793\n",
            "Epoch 49/250\n",
            "48000/48000 [==============================] - 3s 58us/step - loss: 0.0322 - acc: 0.9894 - val_loss: 0.0903 - val_acc: 0.9794\n",
            "Epoch 50/250\n",
            "48000/48000 [==============================] - 3s 59us/step - loss: 0.0320 - acc: 0.9894 - val_loss: 0.0912 - val_acc: 0.9793\n",
            "Epoch 51/250\n",
            "48000/48000 [==============================] - 3s 60us/step - loss: 0.0328 - acc: 0.9891 - val_loss: 0.0918 - val_acc: 0.9789\n",
            "Epoch 52/250\n",
            " 9600/48000 [=====>........................] - ETA: 2s - loss: 0.0328 - acc: 0.9888"
          ],
          "name": "stdout"
        },
        {
          "output_type": "stream",
          "text": [
            "48000/48000 [==============================] - 3s 58us/step - loss: 0.0319 - acc: 0.9892 - val_loss: 0.0933 - val_acc: 0.9791\n",
            "Epoch 53/250\n",
            "48000/48000 [==============================] - 3s 60us/step - loss: 0.0323 - acc: 0.9893 - val_loss: 0.0890 - val_acc: 0.9805\n",
            "Epoch 54/250\n",
            "48000/48000 [==============================] - 3s 58us/step - loss: 0.0319 - acc: 0.9892 - val_loss: 0.0861 - val_acc: 0.9801\n",
            "Epoch 55/250\n",
            "48000/48000 [==============================] - 3s 59us/step - loss: 0.0313 - acc: 0.9900 - val_loss: 0.0906 - val_acc: 0.9785\n",
            "Epoch 56/250\n",
            "48000/48000 [==============================] - 3s 58us/step - loss: 0.0312 - acc: 0.9898 - val_loss: 0.0844 - val_acc: 0.9805\n",
            "Epoch 57/250\n",
            "11648/48000 [======>.......................] - ETA: 1s - loss: 0.0287 - acc: 0.9907"
          ],
          "name": "stdout"
        },
        {
          "output_type": "stream",
          "text": [
            "48000/48000 [==============================] - 3s 58us/step - loss: 0.0303 - acc: 0.9901 - val_loss: 0.0970 - val_acc: 0.9783\n",
            "Epoch 58/250\n",
            "48000/48000 [==============================] - 3s 59us/step - loss: 0.0268 - acc: 0.9911 - val_loss: 0.0948 - val_acc: 0.9792\n",
            "Epoch 59/250\n",
            "48000/48000 [==============================] - 3s 57us/step - loss: 0.0302 - acc: 0.9901 - val_loss: 0.0895 - val_acc: 0.9797\n",
            "Epoch 60/250\n",
            "48000/48000 [==============================] - 3s 56us/step - loss: 0.0324 - acc: 0.9893 - val_loss: 0.0909 - val_acc: 0.9809\n",
            "Epoch 61/250\n",
            "48000/48000 [==============================] - 3s 57us/step - loss: 0.0281 - acc: 0.9908 - val_loss: 0.0916 - val_acc: 0.9789\n",
            "Epoch 62/250\n",
            "13696/48000 [=======>......................] - ETA: 1s - loss: 0.0242 - acc: 0.9917"
          ],
          "name": "stdout"
        },
        {
          "output_type": "stream",
          "text": [
            "48000/48000 [==============================] - 3s 59us/step - loss: 0.0273 - acc: 0.9910 - val_loss: 0.0900 - val_acc: 0.9798\n",
            "Epoch 63/250\n",
            "48000/48000 [==============================] - 3s 59us/step - loss: 0.0288 - acc: 0.9905 - val_loss: 0.0958 - val_acc: 0.9786\n",
            "Epoch 64/250\n",
            "48000/48000 [==============================] - 3s 60us/step - loss: 0.0297 - acc: 0.9896 - val_loss: 0.0906 - val_acc: 0.9794\n",
            "Epoch 65/250\n",
            "48000/48000 [==============================] - 3s 60us/step - loss: 0.0271 - acc: 0.9909 - val_loss: 0.0933 - val_acc: 0.9807\n",
            "Epoch 66/250\n",
            "48000/48000 [==============================] - 3s 62us/step - loss: 0.0279 - acc: 0.9911 - val_loss: 0.0917 - val_acc: 0.9800\n",
            "Epoch 67/250\n",
            " 6400/48000 [===>..........................] - ETA: 2s - loss: 0.0258 - acc: 0.9903"
          ],
          "name": "stdout"
        },
        {
          "output_type": "stream",
          "text": [
            "48000/48000 [==============================] - 3s 61us/step - loss: 0.0270 - acc: 0.9910 - val_loss: 0.0887 - val_acc: 0.9798\n",
            "Epoch 68/250\n",
            "48000/48000 [==============================] - 3s 59us/step - loss: 0.0268 - acc: 0.9914 - val_loss: 0.0909 - val_acc: 0.9788\n",
            "Epoch 69/250\n",
            "48000/48000 [==============================] - 3s 61us/step - loss: 0.0274 - acc: 0.9911 - val_loss: 0.0917 - val_acc: 0.9789\n",
            "Epoch 70/250\n",
            "48000/48000 [==============================] - 3s 62us/step - loss: 0.0272 - acc: 0.9910 - val_loss: 0.0958 - val_acc: 0.9786\n",
            "Epoch 71/250\n",
            "48000/48000 [==============================] - 3s 62us/step - loss: 0.0280 - acc: 0.9911 - val_loss: 0.0974 - val_acc: 0.9787\n",
            "Epoch 72/250\n",
            " 4096/48000 [=>............................] - ETA: 2s - loss: 0.0251 - acc: 0.9910"
          ],
          "name": "stdout"
        },
        {
          "output_type": "stream",
          "text": [
            "48000/48000 [==============================] - 3s 60us/step - loss: 0.0280 - acc: 0.9910 - val_loss: 0.0919 - val_acc: 0.9800\n",
            "Epoch 73/250\n",
            "48000/48000 [==============================] - 3s 61us/step - loss: 0.0260 - acc: 0.9911 - val_loss: 0.0897 - val_acc: 0.9794\n",
            "Epoch 74/250\n",
            "48000/48000 [==============================] - 3s 61us/step - loss: 0.0254 - acc: 0.9912 - val_loss: 0.0905 - val_acc: 0.9803\n",
            "Epoch 75/250\n",
            "48000/48000 [==============================] - 3s 60us/step - loss: 0.0286 - acc: 0.9906 - val_loss: 0.0950 - val_acc: 0.9806\n",
            "Epoch 76/250\n",
            "48000/48000 [==============================] - 3s 60us/step - loss: 0.0262 - acc: 0.9915 - val_loss: 0.0931 - val_acc: 0.9804\n",
            "Epoch 77/250\n",
            " 5888/48000 [==>...........................] - ETA: 2s - loss: 0.0219 - acc: 0.9935"
          ],
          "name": "stdout"
        },
        {
          "output_type": "stream",
          "text": [
            "48000/48000 [==============================] - 3s 59us/step - loss: 0.0276 - acc: 0.9914 - val_loss: 0.0988 - val_acc: 0.9794\n",
            "Epoch 78/250\n",
            "48000/48000 [==============================] - 3s 57us/step - loss: 0.0257 - acc: 0.9917 - val_loss: 0.1002 - val_acc: 0.9784\n",
            "Epoch 79/250\n",
            "48000/48000 [==============================] - 3s 59us/step - loss: 0.0286 - acc: 0.9908 - val_loss: 0.0949 - val_acc: 0.9792\n",
            "Epoch 80/250\n",
            "48000/48000 [==============================] - 3s 60us/step - loss: 0.0260 - acc: 0.9915 - val_loss: 0.0979 - val_acc: 0.9781\n",
            "Epoch 81/250\n",
            "48000/48000 [==============================] - 3s 58us/step - loss: 0.0268 - acc: 0.9914 - val_loss: 0.0967 - val_acc: 0.9791\n",
            "Epoch 82/250\n",
            " 9472/48000 [====>.........................] - ETA: 2s - loss: 0.0291 - acc: 0.9902"
          ],
          "name": "stdout"
        },
        {
          "output_type": "stream",
          "text": [
            "48000/48000 [==============================] - 3s 60us/step - loss: 0.0270 - acc: 0.9909 - val_loss: 0.0936 - val_acc: 0.9791\n",
            "Epoch 83/250\n",
            "48000/48000 [==============================] - 3s 59us/step - loss: 0.0249 - acc: 0.9915 - val_loss: 0.0944 - val_acc: 0.9796\n",
            "Epoch 84/250\n",
            "48000/48000 [==============================] - 3s 56us/step - loss: 0.0268 - acc: 0.9911 - val_loss: 0.1017 - val_acc: 0.9779\n",
            "Epoch 85/250\n",
            "48000/48000 [==============================] - 3s 58us/step - loss: 0.0273 - acc: 0.9915 - val_loss: 0.0971 - val_acc: 0.9787\n",
            "Epoch 86/250\n",
            "48000/48000 [==============================] - 3s 58us/step - loss: 0.0243 - acc: 0.9917 - val_loss: 0.0912 - val_acc: 0.9807\n",
            "Epoch 87/250\n",
            "11392/48000 [======>.......................] - ETA: 2s - loss: 0.0196 - acc: 0.9933"
          ],
          "name": "stdout"
        },
        {
          "output_type": "stream",
          "text": [
            "48000/48000 [==============================] - 3s 59us/step - loss: 0.0232 - acc: 0.9919 - val_loss: 0.0967 - val_acc: 0.9801\n",
            "Epoch 88/250\n",
            "48000/48000 [==============================] - 3s 60us/step - loss: 0.0258 - acc: 0.9912 - val_loss: 0.1002 - val_acc: 0.9798\n",
            "Epoch 89/250\n",
            "48000/48000 [==============================] - 3s 59us/step - loss: 0.0230 - acc: 0.9921 - val_loss: 0.0993 - val_acc: 0.9792\n",
            "Epoch 90/250\n",
            "48000/48000 [==============================] - 3s 60us/step - loss: 0.0254 - acc: 0.9908 - val_loss: 0.0956 - val_acc: 0.9802\n",
            "Epoch 91/250\n",
            "48000/48000 [==============================] - 3s 59us/step - loss: 0.0225 - acc: 0.9927 - val_loss: 0.1019 - val_acc: 0.9792\n",
            "Epoch 92/250\n",
            " 8960/48000 [====>.........................] - ETA: 2s - loss: 0.0291 - acc: 0.9902"
          ],
          "name": "stdout"
        },
        {
          "output_type": "stream",
          "text": [
            "48000/48000 [==============================] - 3s 61us/step - loss: 0.0271 - acc: 0.9910 - val_loss: 0.1011 - val_acc: 0.9786\n",
            "Epoch 93/250\n",
            "48000/48000 [==============================] - 3s 59us/step - loss: 0.0227 - acc: 0.9928 - val_loss: 0.0947 - val_acc: 0.9796\n",
            "Epoch 94/250\n",
            "48000/48000 [==============================] - 3s 57us/step - loss: 0.0221 - acc: 0.9928 - val_loss: 0.1078 - val_acc: 0.9780\n",
            "Epoch 95/250\n",
            "48000/48000 [==============================] - 3s 59us/step - loss: 0.0248 - acc: 0.9914 - val_loss: 0.1029 - val_acc: 0.9797\n",
            "Epoch 96/250\n",
            "48000/48000 [==============================] - 3s 58us/step - loss: 0.0254 - acc: 0.9922 - val_loss: 0.1024 - val_acc: 0.9792\n",
            "Epoch 97/250\n",
            "13184/48000 [=======>......................] - ETA: 1s - loss: 0.0194 - acc: 0.9941"
          ],
          "name": "stdout"
        },
        {
          "output_type": "stream",
          "text": [
            "48000/48000 [==============================] - 3s 57us/step - loss: 0.0233 - acc: 0.9922 - val_loss: 0.1068 - val_acc: 0.9786\n",
            "Epoch 98/250\n",
            "48000/48000 [==============================] - 3s 57us/step - loss: 0.0253 - acc: 0.9913 - val_loss: 0.0984 - val_acc: 0.9797\n",
            "Epoch 99/250\n",
            "48000/48000 [==============================] - 3s 60us/step - loss: 0.0268 - acc: 0.9917 - val_loss: 0.0995 - val_acc: 0.9787\n",
            "Epoch 100/250\n",
            "48000/48000 [==============================] - 3s 61us/step - loss: 0.0252 - acc: 0.9915 - val_loss: 0.1034 - val_acc: 0.9801\n",
            "Epoch 101/250\n",
            "48000/48000 [==============================] - 3s 58us/step - loss: 0.0241 - acc: 0.9923 - val_loss: 0.1005 - val_acc: 0.9792\n",
            "Epoch 102/250\n",
            " 9600/48000 [=====>........................] - ETA: 2s - loss: 0.0208 - acc: 0.9936"
          ],
          "name": "stdout"
        },
        {
          "output_type": "stream",
          "text": [
            "48000/48000 [==============================] - 3s 59us/step - loss: 0.0226 - acc: 0.9927 - val_loss: 0.0981 - val_acc: 0.9789\n",
            "Epoch 103/250\n",
            "48000/48000 [==============================] - 3s 59us/step - loss: 0.0230 - acc: 0.9923 - val_loss: 0.1012 - val_acc: 0.9787\n",
            "Epoch 104/250\n",
            "48000/48000 [==============================] - 3s 59us/step - loss: 0.0228 - acc: 0.9931 - val_loss: 0.1014 - val_acc: 0.9787\n",
            "Epoch 105/250\n",
            "48000/48000 [==============================] - 3s 60us/step - loss: 0.0248 - acc: 0.9923 - val_loss: 0.0985 - val_acc: 0.9783\n",
            "Epoch 106/250\n",
            "48000/48000 [==============================] - 3s 58us/step - loss: 0.0239 - acc: 0.9918 - val_loss: 0.1025 - val_acc: 0.9792\n",
            "Epoch 107/250\n",
            " 8448/48000 [====>.........................] - ETA: 2s - loss: 0.0181 - acc: 0.9942"
          ],
          "name": "stdout"
        },
        {
          "output_type": "stream",
          "text": [
            "48000/48000 [==============================] - 3s 59us/step - loss: 0.0230 - acc: 0.9927 - val_loss: 0.1069 - val_acc: 0.9792\n",
            "Epoch 108/250\n",
            "48000/48000 [==============================] - 3s 58us/step - loss: 0.0216 - acc: 0.9927 - val_loss: 0.1013 - val_acc: 0.9784\n",
            "Epoch 109/250\n",
            "48000/48000 [==============================] - 3s 62us/step - loss: 0.0228 - acc: 0.9925 - val_loss: 0.1061 - val_acc: 0.9795\n",
            "Epoch 110/250\n",
            "48000/48000 [==============================] - 3s 60us/step - loss: 0.0219 - acc: 0.9927 - val_loss: 0.0999 - val_acc: 0.9804\n",
            "Epoch 111/250\n",
            "48000/48000 [==============================] - 3s 61us/step - loss: 0.0230 - acc: 0.9926 - val_loss: 0.1021 - val_acc: 0.9788\n",
            "Epoch 112/250\n",
            " 5760/48000 [==>...........................] - ETA: 2s - loss: 0.0222 - acc: 0.9934"
          ],
          "name": "stdout"
        },
        {
          "output_type": "stream",
          "text": [
            "48000/48000 [==============================] - 3s 59us/step - loss: 0.0226 - acc: 0.9927 - val_loss: 0.1051 - val_acc: 0.9795\n",
            "Epoch 113/250\n",
            "48000/48000 [==============================] - 3s 60us/step - loss: 0.0225 - acc: 0.9930 - val_loss: 0.1037 - val_acc: 0.9796\n",
            "Epoch 114/250\n",
            "48000/48000 [==============================] - 3s 59us/step - loss: 0.0219 - acc: 0.9927 - val_loss: 0.1063 - val_acc: 0.9779\n",
            "Epoch 115/250\n",
            "48000/48000 [==============================] - 3s 59us/step - loss: 0.0224 - acc: 0.9929 - val_loss: 0.1028 - val_acc: 0.9795\n",
            "Epoch 116/250\n",
            "48000/48000 [==============================] - 3s 61us/step - loss: 0.0224 - acc: 0.9930 - val_loss: 0.1044 - val_acc: 0.9799\n",
            "Epoch 117/250\n",
            " 7680/48000 [===>..........................] - ETA: 2s - loss: 0.0233 - acc: 0.9924"
          ],
          "name": "stdout"
        },
        {
          "output_type": "stream",
          "text": [
            "48000/48000 [==============================] - 3s 60us/step - loss: 0.0238 - acc: 0.9924 - val_loss: 0.1048 - val_acc: 0.9797\n",
            "Epoch 118/250\n",
            "48000/48000 [==============================] - 3s 60us/step - loss: 0.0177 - acc: 0.9940 - val_loss: 0.1115 - val_acc: 0.9788\n",
            "Epoch 119/250\n",
            "48000/48000 [==============================] - 3s 61us/step - loss: 0.0215 - acc: 0.9932 - val_loss: 0.1079 - val_acc: 0.9797\n",
            "Epoch 120/250\n",
            "48000/48000 [==============================] - 3s 60us/step - loss: 0.0227 - acc: 0.9928 - val_loss: 0.1091 - val_acc: 0.9785\n",
            "Epoch 121/250\n",
            "48000/48000 [==============================] - 3s 58us/step - loss: 0.0230 - acc: 0.9926 - val_loss: 0.1090 - val_acc: 0.9787\n",
            "Epoch 122/250\n",
            " 8320/48000 [====>.........................] - ETA: 2s - loss: 0.0199 - acc: 0.9941"
          ],
          "name": "stdout"
        },
        {
          "output_type": "stream",
          "text": [
            "48000/48000 [==============================] - 3s 58us/step - loss: 0.0207 - acc: 0.9931 - val_loss: 0.1041 - val_acc: 0.9790\n",
            "Epoch 123/250\n",
            "48000/48000 [==============================] - 3s 59us/step - loss: 0.0188 - acc: 0.9941 - val_loss: 0.1063 - val_acc: 0.9797\n",
            "Epoch 124/250\n",
            "48000/48000 [==============================] - 3s 58us/step - loss: 0.0192 - acc: 0.9939 - val_loss: 0.1085 - val_acc: 0.9783\n",
            "Epoch 125/250\n",
            "48000/48000 [==============================] - 3s 57us/step - loss: 0.0219 - acc: 0.9926 - val_loss: 0.1079 - val_acc: 0.9776\n",
            "Epoch 126/250\n",
            "48000/48000 [==============================] - 3s 58us/step - loss: 0.0240 - acc: 0.9921 - val_loss: 0.1025 - val_acc: 0.9788\n",
            "Epoch 127/250\n",
            "11136/48000 [=====>........................] - ETA: 1s - loss: 0.0208 - acc: 0.9939"
          ],
          "name": "stdout"
        },
        {
          "output_type": "stream",
          "text": [
            "48000/48000 [==============================] - 3s 60us/step - loss: 0.0222 - acc: 0.9927 - val_loss: 0.1039 - val_acc: 0.9792\n",
            "Epoch 128/250\n",
            "48000/48000 [==============================] - 3s 61us/step - loss: 0.0212 - acc: 0.9935 - val_loss: 0.1003 - val_acc: 0.9800\n",
            "Epoch 129/250\n",
            "48000/48000 [==============================] - 3s 57us/step - loss: 0.0203 - acc: 0.9935 - val_loss: 0.1095 - val_acc: 0.9786\n",
            "Epoch 130/250\n",
            "48000/48000 [==============================] - 3s 60us/step - loss: 0.0207 - acc: 0.9936 - val_loss: 0.1081 - val_acc: 0.9795\n",
            "Epoch 131/250\n",
            "48000/48000 [==============================] - 3s 60us/step - loss: 0.0189 - acc: 0.9943 - val_loss: 0.1088 - val_acc: 0.9783\n",
            "Epoch 132/250\n",
            " 7680/48000 [===>..........................] - ETA: 2s - loss: 0.0233 - acc: 0.9932"
          ],
          "name": "stdout"
        },
        {
          "output_type": "stream",
          "text": [
            "48000/48000 [==============================] - 3s 59us/step - loss: 0.0224 - acc: 0.9924 - val_loss: 0.1028 - val_acc: 0.9797\n",
            "Epoch 133/250\n",
            "48000/48000 [==============================] - 3s 60us/step - loss: 0.0211 - acc: 0.9930 - val_loss: 0.1127 - val_acc: 0.9787\n",
            "Epoch 134/250\n",
            "48000/48000 [==============================] - 3s 57us/step - loss: 0.0213 - acc: 0.9929 - val_loss: 0.1059 - val_acc: 0.9788\n",
            "Epoch 135/250\n",
            "48000/48000 [==============================] - 3s 59us/step - loss: 0.0203 - acc: 0.9937 - val_loss: 0.1137 - val_acc: 0.9783\n",
            "Epoch 136/250\n",
            "48000/48000 [==============================] - 3s 59us/step - loss: 0.0215 - acc: 0.9935 - val_loss: 0.1084 - val_acc: 0.9783\n",
            "Epoch 137/250\n",
            " 9728/48000 [=====>........................] - ETA: 2s - loss: 0.0152 - acc: 0.9953"
          ],
          "name": "stdout"
        },
        {
          "output_type": "stream",
          "text": [
            "48000/48000 [==============================] - 3s 60us/step - loss: 0.0196 - acc: 0.9936 - val_loss: 0.1061 - val_acc: 0.9795\n",
            "Epoch 138/250\n",
            "48000/48000 [==============================] - 3s 60us/step - loss: 0.0188 - acc: 0.9940 - val_loss: 0.1077 - val_acc: 0.9787\n",
            "Epoch 139/250\n",
            "48000/48000 [==============================] - 3s 61us/step - loss: 0.0185 - acc: 0.9940 - val_loss: 0.1078 - val_acc: 0.9779\n",
            "Epoch 140/250\n",
            "48000/48000 [==============================] - 3s 58us/step - loss: 0.0204 - acc: 0.9931 - val_loss: 0.1098 - val_acc: 0.9795\n",
            "Epoch 141/250\n",
            "48000/48000 [==============================] - 3s 60us/step - loss: 0.0195 - acc: 0.9936 - val_loss: 0.1142 - val_acc: 0.9790\n",
            "Epoch 142/250\n",
            " 8576/48000 [====>.........................] - ETA: 2s - loss: 0.0219 - acc: 0.9929"
          ],
          "name": "stdout"
        },
        {
          "output_type": "stream",
          "text": [
            "48000/48000 [==============================] - 3s 57us/step - loss: 0.0189 - acc: 0.9940 - val_loss: 0.1181 - val_acc: 0.9781\n",
            "Epoch 143/250\n",
            "48000/48000 [==============================] - 3s 56us/step - loss: 0.0199 - acc: 0.9940 - val_loss: 0.1153 - val_acc: 0.9791\n",
            "Epoch 144/250\n",
            "48000/48000 [==============================] - 3s 60us/step - loss: 0.0236 - acc: 0.9929 - val_loss: 0.1134 - val_acc: 0.9786\n",
            "Epoch 145/250\n",
            "48000/48000 [==============================] - 3s 58us/step - loss: 0.0204 - acc: 0.9936 - val_loss: 0.1098 - val_acc: 0.9789\n",
            "Epoch 146/250\n",
            "48000/48000 [==============================] - 3s 58us/step - loss: 0.0207 - acc: 0.9932 - val_loss: 0.1083 - val_acc: 0.9792\n",
            "Epoch 147/250\n",
            "10496/48000 [=====>........................] - ETA: 2s - loss: 0.0203 - acc: 0.9945"
          ],
          "name": "stdout"
        },
        {
          "output_type": "stream",
          "text": [
            "48000/48000 [==============================] - 3s 60us/step - loss: 0.0194 - acc: 0.9939 - val_loss: 0.1103 - val_acc: 0.9796\n",
            "Epoch 148/250\n",
            "48000/48000 [==============================] - 3s 59us/step - loss: 0.0200 - acc: 0.9935 - val_loss: 0.1106 - val_acc: 0.9793\n",
            "Epoch 149/250\n",
            "48000/48000 [==============================] - 3s 61us/step - loss: 0.0218 - acc: 0.9934 - val_loss: 0.1079 - val_acc: 0.9800\n",
            "Epoch 150/250\n",
            "48000/48000 [==============================] - 3s 62us/step - loss: 0.0192 - acc: 0.9938 - val_loss: 0.1077 - val_acc: 0.9789\n",
            "Epoch 151/250\n",
            "48000/48000 [==============================] - 3s 61us/step - loss: 0.0165 - acc: 0.9946 - val_loss: 0.1150 - val_acc: 0.9790\n",
            "Epoch 152/250\n",
            " 5504/48000 [==>...........................] - ETA: 2s - loss: 0.0230 - acc: 0.9922"
          ],
          "name": "stdout"
        },
        {
          "output_type": "stream",
          "text": [
            "48000/48000 [==============================] - 3s 63us/step - loss: 0.0196 - acc: 0.9936 - val_loss: 0.1112 - val_acc: 0.9798\n",
            "Epoch 153/250\n",
            "48000/48000 [==============================] - 3s 62us/step - loss: 0.0176 - acc: 0.9944 - val_loss: 0.1108 - val_acc: 0.9783\n",
            "Epoch 154/250\n",
            "48000/48000 [==============================] - 3s 60us/step - loss: 0.0224 - acc: 0.9927 - val_loss: 0.1109 - val_acc: 0.9782\n",
            "Epoch 155/250\n",
            "48000/48000 [==============================] - 3s 61us/step - loss: 0.0189 - acc: 0.9944 - val_loss: 0.1089 - val_acc: 0.9785\n",
            "Epoch 156/250\n",
            "48000/48000 [==============================] - 3s 58us/step - loss: 0.0194 - acc: 0.9937 - val_loss: 0.1173 - val_acc: 0.9792\n",
            "Epoch 157/250\n",
            " 7168/48000 [===>..........................] - ETA: 2s - loss: 0.0225 - acc: 0.9926"
          ],
          "name": "stdout"
        },
        {
          "output_type": "stream",
          "text": [
            "48000/48000 [==============================] - 3s 57us/step - loss: 0.0205 - acc: 0.9935 - val_loss: 0.1115 - val_acc: 0.9787\n",
            "Epoch 158/250\n",
            "48000/48000 [==============================] - 3s 57us/step - loss: 0.0175 - acc: 0.9946 - val_loss: 0.1083 - val_acc: 0.9792\n",
            "Epoch 159/250\n",
            "48000/48000 [==============================] - 3s 57us/step - loss: 0.0173 - acc: 0.9947 - val_loss: 0.1109 - val_acc: 0.9790\n",
            "Epoch 160/250\n",
            "48000/48000 [==============================] - 3s 59us/step - loss: 0.0184 - acc: 0.9939 - val_loss: 0.1224 - val_acc: 0.9785\n",
            "Epoch 161/250\n",
            "48000/48000 [==============================] - 3s 58us/step - loss: 0.0185 - acc: 0.9936 - val_loss: 0.1111 - val_acc: 0.9799\n",
            "Epoch 162/250\n",
            "11264/48000 [======>.......................] - ETA: 1s - loss: 0.0248 - acc: 0.9929"
          ],
          "name": "stdout"
        },
        {
          "output_type": "stream",
          "text": [
            "48000/48000 [==============================] - 3s 59us/step - loss: 0.0198 - acc: 0.9938 - val_loss: 0.1153 - val_acc: 0.9793\n",
            "Epoch 163/250\n",
            "48000/48000 [==============================] - 3s 58us/step - loss: 0.0179 - acc: 0.9946 - val_loss: 0.1129 - val_acc: 0.9785\n",
            "Epoch 164/250\n",
            "48000/48000 [==============================] - 3s 60us/step - loss: 0.0183 - acc: 0.9939 - val_loss: 0.1063 - val_acc: 0.9800\n",
            "Epoch 165/250\n",
            "48000/48000 [==============================] - 3s 60us/step - loss: 0.0195 - acc: 0.9934 - val_loss: 0.1118 - val_acc: 0.9790\n",
            "Epoch 166/250\n",
            "48000/48000 [==============================] - 3s 60us/step - loss: 0.0203 - acc: 0.9940 - val_loss: 0.1072 - val_acc: 0.9802\n",
            "Epoch 167/250\n",
            " 8832/48000 [====>.........................] - ETA: 2s - loss: 0.0169 - acc: 0.9940"
          ],
          "name": "stdout"
        },
        {
          "output_type": "stream",
          "text": [
            "48000/48000 [==============================] - 3s 58us/step - loss: 0.0181 - acc: 0.9941 - val_loss: 0.1151 - val_acc: 0.9787\n",
            "Epoch 168/250\n",
            "48000/48000 [==============================] - 3s 57us/step - loss: 0.0181 - acc: 0.9943 - val_loss: 0.1093 - val_acc: 0.9794\n",
            "Epoch 169/250\n",
            "48000/48000 [==============================] - 3s 58us/step - loss: 0.0178 - acc: 0.9938 - val_loss: 0.1097 - val_acc: 0.9789\n",
            "Epoch 170/250\n",
            "48000/48000 [==============================] - 3s 58us/step - loss: 0.0186 - acc: 0.9941 - val_loss: 0.1134 - val_acc: 0.9791\n",
            "Epoch 171/250\n",
            "48000/48000 [==============================] - 3s 61us/step - loss: 0.0204 - acc: 0.9936 - val_loss: 0.1092 - val_acc: 0.9793\n",
            "Epoch 172/250\n",
            " 9728/48000 [=====>........................] - ETA: 2s - loss: 0.0222 - acc: 0.9924"
          ],
          "name": "stdout"
        },
        {
          "output_type": "stream",
          "text": [
            "48000/48000 [==============================] - 3s 60us/step - loss: 0.0179 - acc: 0.9939 - val_loss: 0.1145 - val_acc: 0.9797\n",
            "Epoch 173/250\n",
            "48000/48000 [==============================] - 3s 59us/step - loss: 0.0176 - acc: 0.9943 - val_loss: 0.1121 - val_acc: 0.9792\n",
            "Epoch 174/250\n",
            "48000/48000 [==============================] - 3s 60us/step - loss: 0.0201 - acc: 0.9937 - val_loss: 0.1147 - val_acc: 0.9787\n",
            "Epoch 175/250\n",
            "48000/48000 [==============================] - 3s 62us/step - loss: 0.0223 - acc: 0.9931 - val_loss: 0.1118 - val_acc: 0.9785\n",
            "Epoch 176/250\n",
            "48000/48000 [==============================] - 3s 58us/step - loss: 0.0194 - acc: 0.9937 - val_loss: 0.1199 - val_acc: 0.9790\n",
            "Epoch 177/250\n",
            " 7936/48000 [===>..........................] - ETA: 2s - loss: 0.0188 - acc: 0.9945"
          ],
          "name": "stdout"
        },
        {
          "output_type": "stream",
          "text": [
            "48000/48000 [==============================] - 3s 59us/step - loss: 0.0170 - acc: 0.9947 - val_loss: 0.1111 - val_acc: 0.9796\n",
            "Epoch 178/250\n",
            "48000/48000 [==============================] - 3s 60us/step - loss: 0.0197 - acc: 0.9940 - val_loss: 0.1175 - val_acc: 0.9784\n",
            "Epoch 179/250\n",
            "48000/48000 [==============================] - 3s 59us/step - loss: 0.0159 - acc: 0.9945 - val_loss: 0.1150 - val_acc: 0.9799\n",
            "Epoch 180/250\n",
            "48000/48000 [==============================] - 3s 58us/step - loss: 0.0175 - acc: 0.9943 - val_loss: 0.1110 - val_acc: 0.9799\n",
            "Epoch 181/250\n",
            "48000/48000 [==============================] - 3s 61us/step - loss: 0.0167 - acc: 0.9947 - val_loss: 0.1155 - val_acc: 0.9794\n",
            "Epoch 182/250\n",
            " 7936/48000 [===>..........................] - ETA: 2s - loss: 0.0180 - acc: 0.9947"
          ],
          "name": "stdout"
        },
        {
          "output_type": "stream",
          "text": [
            "48000/48000 [==============================] - 3s 60us/step - loss: 0.0173 - acc: 0.9945 - val_loss: 0.1238 - val_acc: 0.9784\n",
            "Epoch 183/250\n",
            "48000/48000 [==============================] - 3s 60us/step - loss: 0.0163 - acc: 0.9948 - val_loss: 0.1173 - val_acc: 0.9785\n",
            "Epoch 184/250\n",
            "48000/48000 [==============================] - 3s 58us/step - loss: 0.0175 - acc: 0.9941 - val_loss: 0.1141 - val_acc: 0.9787\n",
            "Epoch 185/250\n",
            "48000/48000 [==============================] - 3s 58us/step - loss: 0.0179 - acc: 0.9943 - val_loss: 0.1151 - val_acc: 0.9780\n",
            "Epoch 186/250\n",
            "48000/48000 [==============================] - 3s 59us/step - loss: 0.0184 - acc: 0.9941 - val_loss: 0.1239 - val_acc: 0.9782\n",
            "Epoch 187/250\n",
            " 8960/48000 [====>.........................] - ETA: 2s - loss: 0.0174 - acc: 0.9941"
          ],
          "name": "stdout"
        },
        {
          "output_type": "stream",
          "text": [
            "48000/48000 [==============================] - 3s 59us/step - loss: 0.0172 - acc: 0.9943 - val_loss: 0.1178 - val_acc: 0.9794\n",
            "Epoch 188/250\n",
            "48000/48000 [==============================] - 3s 59us/step - loss: 0.0172 - acc: 0.9947 - val_loss: 0.1254 - val_acc: 0.9766\n",
            "Epoch 189/250\n",
            "48000/48000 [==============================] - 3s 59us/step - loss: 0.0177 - acc: 0.9941 - val_loss: 0.1233 - val_acc: 0.9782\n",
            "Epoch 190/250\n",
            "48000/48000 [==============================] - 3s 59us/step - loss: 0.0172 - acc: 0.9946 - val_loss: 0.1212 - val_acc: 0.9778\n",
            "Epoch 191/250\n",
            "48000/48000 [==============================] - 3s 60us/step - loss: 0.0166 - acc: 0.9947 - val_loss: 0.1210 - val_acc: 0.9785\n",
            "Epoch 192/250\n",
            " 9728/48000 [=====>........................] - ETA: 2s - loss: 0.0201 - acc: 0.9937"
          ],
          "name": "stdout"
        },
        {
          "output_type": "stream",
          "text": [
            "48000/48000 [==============================] - 3s 60us/step - loss: 0.0193 - acc: 0.9942 - val_loss: 0.1144 - val_acc: 0.9794\n",
            "Epoch 193/250\n",
            "48000/48000 [==============================] - 3s 61us/step - loss: 0.0164 - acc: 0.9950 - val_loss: 0.1117 - val_acc: 0.9789\n",
            "Epoch 194/250\n",
            "48000/48000 [==============================] - 3s 58us/step - loss: 0.0178 - acc: 0.9944 - val_loss: 0.1230 - val_acc: 0.9777\n",
            "Epoch 195/250\n",
            "48000/48000 [==============================] - 3s 58us/step - loss: 0.0160 - acc: 0.9949 - val_loss: 0.1234 - val_acc: 0.9792\n",
            "Epoch 196/250\n",
            "48000/48000 [==============================] - 3s 59us/step - loss: 0.0169 - acc: 0.9943 - val_loss: 0.1231 - val_acc: 0.9783\n",
            "Epoch 197/250\n",
            " 8448/48000 [====>.........................] - ETA: 2s - loss: 0.0237 - acc: 0.9921"
          ],
          "name": "stdout"
        },
        {
          "output_type": "stream",
          "text": [
            "48000/48000 [==============================] - 3s 58us/step - loss: 0.0192 - acc: 0.9937 - val_loss: 0.1146 - val_acc: 0.9795\n",
            "Epoch 198/250\n",
            "48000/48000 [==============================] - 3s 58us/step - loss: 0.0186 - acc: 0.9941 - val_loss: 0.1164 - val_acc: 0.9795\n",
            "Epoch 199/250\n",
            "48000/48000 [==============================] - 3s 59us/step - loss: 0.0185 - acc: 0.9942 - val_loss: 0.1157 - val_acc: 0.9789\n",
            "Epoch 200/250\n",
            "48000/48000 [==============================] - 3s 56us/step - loss: 0.0164 - acc: 0.9946 - val_loss: 0.1153 - val_acc: 0.9786\n",
            "Epoch 201/250\n",
            "48000/48000 [==============================] - 3s 58us/step - loss: 0.0183 - acc: 0.9942 - val_loss: 0.1174 - val_acc: 0.9790\n",
            "Epoch 202/250\n",
            "12032/48000 [======>.......................] - ETA: 1s - loss: 0.0191 - acc: 0.9942"
          ],
          "name": "stdout"
        },
        {
          "output_type": "stream",
          "text": [
            "48000/48000 [==============================] - 3s 58us/step - loss: 0.0179 - acc: 0.9945 - val_loss: 0.1097 - val_acc: 0.9792\n",
            "Epoch 203/250\n",
            "48000/48000 [==============================] - 3s 57us/step - loss: 0.0183 - acc: 0.9945 - val_loss: 0.1141 - val_acc: 0.9793\n",
            "Epoch 204/250\n",
            "48000/48000 [==============================] - 3s 58us/step - loss: 0.0150 - acc: 0.9952 - val_loss: 0.1270 - val_acc: 0.9790\n",
            "Epoch 205/250\n",
            "48000/48000 [==============================] - 3s 58us/step - loss: 0.0178 - acc: 0.9944 - val_loss: 0.1245 - val_acc: 0.9782\n",
            "Epoch 206/250\n",
            "48000/48000 [==============================] - 3s 58us/step - loss: 0.0175 - acc: 0.9945 - val_loss: 0.1176 - val_acc: 0.9788\n",
            "Epoch 207/250\n",
            "11520/48000 [======>.......................] - ETA: 2s - loss: 0.0120 - acc: 0.9959"
          ],
          "name": "stdout"
        },
        {
          "output_type": "stream",
          "text": [
            "48000/48000 [==============================] - 3s 60us/step - loss: 0.0152 - acc: 0.9947 - val_loss: 0.1153 - val_acc: 0.9795\n",
            "Epoch 208/250\n",
            "48000/48000 [==============================] - 3s 59us/step - loss: 0.0178 - acc: 0.9946 - val_loss: 0.1204 - val_acc: 0.9787\n",
            "Epoch 209/250\n",
            "48000/48000 [==============================] - 3s 58us/step - loss: 0.0173 - acc: 0.9948 - val_loss: 0.1232 - val_acc: 0.9787\n",
            "Epoch 210/250\n",
            "48000/48000 [==============================] - 3s 60us/step - loss: 0.0172 - acc: 0.9948 - val_loss: 0.1201 - val_acc: 0.9780\n",
            "Epoch 211/250\n",
            "48000/48000 [==============================] - 3s 59us/step - loss: 0.0195 - acc: 0.9941 - val_loss: 0.1181 - val_acc: 0.9798\n",
            "Epoch 212/250\n",
            " 9984/48000 [=====>........................] - ETA: 2s - loss: 0.0118 - acc: 0.9958"
          ],
          "name": "stdout"
        },
        {
          "output_type": "stream",
          "text": [
            "48000/48000 [==============================] - 3s 58us/step - loss: 0.0144 - acc: 0.9955 - val_loss: 0.1214 - val_acc: 0.9787\n",
            "Epoch 213/250\n",
            "48000/48000 [==============================] - 3s 60us/step - loss: 0.0181 - acc: 0.9943 - val_loss: 0.1212 - val_acc: 0.9803\n",
            "Epoch 214/250\n",
            "48000/48000 [==============================] - 3s 60us/step - loss: 0.0174 - acc: 0.9946 - val_loss: 0.1164 - val_acc: 0.9797\n",
            "Epoch 215/250\n",
            "48000/48000 [==============================] - 3s 61us/step - loss: 0.0162 - acc: 0.9951 - val_loss: 0.1218 - val_acc: 0.9781\n",
            "Epoch 216/250\n",
            "48000/48000 [==============================] - 3s 60us/step - loss: 0.0171 - acc: 0.9950 - val_loss: 0.1259 - val_acc: 0.9789\n",
            "Epoch 217/250\n",
            " 9088/48000 [====>.........................] - ETA: 2s - loss: 0.0133 - acc: 0.9946"
          ],
          "name": "stdout"
        },
        {
          "output_type": "stream",
          "text": [
            "48000/48000 [==============================] - 3s 57us/step - loss: 0.0171 - acc: 0.9945 - val_loss: 0.1179 - val_acc: 0.9794\n",
            "Epoch 218/250\n",
            "48000/48000 [==============================] - 3s 58us/step - loss: 0.0142 - acc: 0.9954 - val_loss: 0.1260 - val_acc: 0.9783\n",
            "Epoch 219/250\n",
            "48000/48000 [==============================] - 3s 59us/step - loss: 0.0164 - acc: 0.9945 - val_loss: 0.1274 - val_acc: 0.9772\n",
            "Epoch 220/250\n",
            "48000/48000 [==============================] - 3s 60us/step - loss: 0.0177 - acc: 0.9947 - val_loss: 0.1355 - val_acc: 0.9770\n",
            "Epoch 221/250\n",
            "48000/48000 [==============================] - 3s 58us/step - loss: 0.0160 - acc: 0.9952 - val_loss: 0.1222 - val_acc: 0.9787\n",
            "Epoch 222/250\n",
            "10112/48000 [=====>........................] - ETA: 2s - loss: 0.0179 - acc: 0.9945"
          ],
          "name": "stdout"
        },
        {
          "output_type": "stream",
          "text": [
            "48000/48000 [==============================] - 3s 58us/step - loss: 0.0160 - acc: 0.9946 - val_loss: 0.1286 - val_acc: 0.9771\n",
            "Epoch 223/250\n",
            "48000/48000 [==============================] - 3s 57us/step - loss: 0.0177 - acc: 0.9942 - val_loss: 0.1251 - val_acc: 0.9782\n",
            "Epoch 224/250\n",
            "48000/48000 [==============================] - 3s 58us/step - loss: 0.0173 - acc: 0.9944 - val_loss: 0.1163 - val_acc: 0.9794\n",
            "Epoch 225/250\n",
            "48000/48000 [==============================] - 3s 60us/step - loss: 0.0141 - acc: 0.9954 - val_loss: 0.1242 - val_acc: 0.9786\n",
            "Epoch 226/250\n",
            "48000/48000 [==============================] - 3s 58us/step - loss: 0.0165 - acc: 0.9949 - val_loss: 0.1306 - val_acc: 0.9778\n",
            "Epoch 227/250\n",
            "12032/48000 [======>.......................] - ETA: 1s - loss: 0.0176 - acc: 0.9941"
          ],
          "name": "stdout"
        },
        {
          "output_type": "stream",
          "text": [
            "48000/48000 [==============================] - 3s 58us/step - loss: 0.0166 - acc: 0.9949 - val_loss: 0.1243 - val_acc: 0.9791\n",
            "Epoch 228/250\n",
            "48000/48000 [==============================] - 3s 60us/step - loss: 0.0196 - acc: 0.9937 - val_loss: 0.1218 - val_acc: 0.9797\n",
            "Epoch 229/250\n",
            "48000/48000 [==============================] - 3s 59us/step - loss: 0.0174 - acc: 0.9949 - val_loss: 0.1166 - val_acc: 0.9787\n",
            "Epoch 230/250\n",
            "48000/48000 [==============================] - 3s 58us/step - loss: 0.0156 - acc: 0.9952 - val_loss: 0.1199 - val_acc: 0.9793\n",
            "Epoch 231/250\n",
            "48000/48000 [==============================] - 3s 59us/step - loss: 0.0168 - acc: 0.9948 - val_loss: 0.1220 - val_acc: 0.9795\n",
            "Epoch 232/250\n",
            " 9984/48000 [=====>........................] - ETA: 2s - loss: 0.0186 - acc: 0.9942"
          ],
          "name": "stdout"
        },
        {
          "output_type": "stream",
          "text": [
            "48000/48000 [==============================] - 3s 60us/step - loss: 0.0185 - acc: 0.9943 - val_loss: 0.1255 - val_acc: 0.9774\n",
            "Epoch 233/250\n",
            "48000/48000 [==============================] - 3s 58us/step - loss: 0.0182 - acc: 0.9939 - val_loss: 0.1233 - val_acc: 0.9787\n",
            "Epoch 234/250\n",
            "48000/48000 [==============================] - 3s 60us/step - loss: 0.0160 - acc: 0.9951 - val_loss: 0.1172 - val_acc: 0.9802\n",
            "Epoch 235/250\n",
            "48000/48000 [==============================] - 3s 59us/step - loss: 0.0166 - acc: 0.9946 - val_loss: 0.1202 - val_acc: 0.9780\n",
            "Epoch 236/250\n",
            "48000/48000 [==============================] - 3s 58us/step - loss: 0.0169 - acc: 0.9953 - val_loss: 0.1213 - val_acc: 0.9792\n",
            "Epoch 237/250\n",
            "10112/48000 [=====>........................] - ETA: 1s - loss: 0.0128 - acc: 0.9957"
          ],
          "name": "stdout"
        },
        {
          "output_type": "stream",
          "text": [
            "48000/48000 [==============================] - 3s 58us/step - loss: 0.0164 - acc: 0.9949 - val_loss: 0.1236 - val_acc: 0.9776\n",
            "Epoch 238/250\n",
            "48000/48000 [==============================] - 3s 58us/step - loss: 0.0153 - acc: 0.9952 - val_loss: 0.1218 - val_acc: 0.9780\n",
            "Epoch 239/250\n",
            "48000/48000 [==============================] - 3s 58us/step - loss: 0.0152 - acc: 0.9950 - val_loss: 0.1208 - val_acc: 0.9797\n",
            "Epoch 240/250\n",
            "48000/48000 [==============================] - 3s 59us/step - loss: 0.0164 - acc: 0.9951 - val_loss: 0.1226 - val_acc: 0.9791\n",
            "Epoch 241/250\n",
            "48000/48000 [==============================] - 3s 60us/step - loss: 0.0169 - acc: 0.9949 - val_loss: 0.1171 - val_acc: 0.9801\n",
            "Epoch 242/250\n",
            " 7936/48000 [===>..........................] - ETA: 2s - loss: 0.0132 - acc: 0.9953"
          ],
          "name": "stdout"
        },
        {
          "output_type": "stream",
          "text": [
            "48000/48000 [==============================] - 3s 59us/step - loss: 0.0157 - acc: 0.9951 - val_loss: 0.1146 - val_acc: 0.9797\n",
            "Epoch 243/250\n",
            "48000/48000 [==============================] - 3s 58us/step - loss: 0.0174 - acc: 0.9947 - val_loss: 0.1216 - val_acc: 0.9790\n",
            "Epoch 244/250\n",
            "48000/48000 [==============================] - 3s 57us/step - loss: 0.0153 - acc: 0.9952 - val_loss: 0.1141 - val_acc: 0.9802\n",
            "Epoch 245/250\n",
            "48000/48000 [==============================] - 3s 57us/step - loss: 0.0168 - acc: 0.9951 - val_loss: 0.1223 - val_acc: 0.9790\n",
            "Epoch 246/250\n",
            "48000/48000 [==============================] - 3s 60us/step - loss: 0.0159 - acc: 0.9949 - val_loss: 0.1238 - val_acc: 0.9800\n",
            "Epoch 247/250\n",
            " 9856/48000 [=====>........................] - ETA: 2s - loss: 0.0177 - acc: 0.9951"
          ],
          "name": "stdout"
        },
        {
          "output_type": "stream",
          "text": [
            "48000/48000 [==============================] - 3s 59us/step - loss: 0.0151 - acc: 0.9954 - val_loss: 0.1196 - val_acc: 0.9794\n",
            "Epoch 248/250\n",
            "48000/48000 [==============================] - 3s 57us/step - loss: 0.0162 - acc: 0.9950 - val_loss: 0.1228 - val_acc: 0.9795\n",
            "Epoch 249/250\n",
            "48000/48000 [==============================] - 3s 60us/step - loss: 0.0142 - acc: 0.9957 - val_loss: 0.1176 - val_acc: 0.9788\n",
            "Epoch 250/250\n",
            "48000/48000 [==============================] - 3s 61us/step - loss: 0.0144 - acc: 0.9955 - val_loss: 0.1283 - val_acc: 0.9787\n",
            "10000/10000 [==============================] - 0s 39us/step\n",
            "\n",
            "Test score: 0.1380761455447437\n",
            "Test accuracy: 0.9795\n"
          ],
          "name": "stdout"
        }
      ]
    }
  ]
}